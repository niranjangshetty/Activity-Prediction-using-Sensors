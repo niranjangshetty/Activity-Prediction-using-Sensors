{
 "cells": [
  {
   "cell_type": "code",
   "execution_count": 3,
   "id": "27f57e95-4409-45d9-aac5-922230a9a2ef",
   "metadata": {},
   "outputs": [
    {
     "name": "stdout",
     "output_type": "stream",
     "text": [
      "Overwriting app.py\n"
     ]
    }
   ],
   "source": [
    "%%writefile app.py\n",
    "\n",
    "import streamlit as st\n",
    "import numpy as np\n",
    "import pandas as pd\n",
    "import joblib\n",
    "\n",
    "with open('final_model.joblib', 'rb') as file:\n",
    "    model=joblib.load(file)\n",
    "\n",
    "def prediction(input_list):\n",
    "\n",
    "    pred = model.predict([input_list])[0]\n",
    "    if pred==0:\n",
    "        return 'Sitting on bed'\n",
    "    elif pred==1:\n",
    "        return 'Sitting on chair'\n",
    "    elif pred==2:\n",
    "        return 'Lying on bed'\n",
    "    else:\n",
    "        return 'Ambulating'\n",
    "\n",
    "def main():\n",
    "    st.title('ACTIVITY PREDICTION FROM SENSOR DATA')\n",
    "    st.subheader('''This application will predict the ongoing activity on the basis of Sensor Data Provided. Fill the respective fields \n",
    "    to get prediction.''')\n",
    "    st.image('image.png')\n",
    "\n",
    "    rfid = st.selectbox('Enter the RFID Configuration settings', ['Config 1 (4 Sensors)', 'Config 2 (3 Sensors)'])\n",
    "    rfid_e = (lambda x : return 3 if x == 'Config 2 (3 Sensors)' else 4)(rfid)\n",
    "\n",
    "    ant_ID = st.selectbox('Select the Antenna ID', [1,2,3,4])\n",
    "    rssi = st.text_input('Enter the recieved signal strength indicator (RSSI)')\n",
    "\n",
    "    accv =  st.text_input('Enter the vertical acceleration data from Sensor')\n",
    "    accf =  st.text_input('Enter the frontal acceleration data from Sensor')\n",
    "    accl =  st.text_input('Enter the lateral acceleration data from Sensor')\n",
    "\n",
    "    input_data = [accf, accv, accl, ant_ID, rssi, rfid_e]\n",
    "\n",
    "    if st.button('Predict'):\n",
    "        response = prediction(in_data)\n",
    "        st.success(response)\n",
    "\n",
    "if __name__=='__main__':\n",
    "    main()"
   ]
  },
  {
   "cell_type": "code",
   "execution_count": null,
   "id": "99eaa12c-31a1-4148-b719-9e9db5379f11",
   "metadata": {},
   "outputs": [],
   "source": []
  }
 ],
 "metadata": {
  "kernelspec": {
   "display_name": "Python [conda env:base] *",
   "language": "python",
   "name": "conda-base-py"
  },
  "language_info": {
   "codemirror_mode": {
    "name": "ipython",
    "version": 3
   },
   "file_extension": ".py",
   "mimetype": "text/x-python",
   "name": "python",
   "nbconvert_exporter": "python",
   "pygments_lexer": "ipython3",
   "version": "3.12.3"
  }
 },
 "nbformat": 4,
 "nbformat_minor": 5
}
